{
 "cells": [
  {
   "cell_type": "markdown",
   "id": "47cd26aa",
   "metadata": {},
   "source": [
    "Send Request to AssemblyAI API to Transcribe Data"
   ]
  },
  {
   "cell_type": "code",
   "execution_count": null,
   "id": "8cb27d25",
   "metadata": {},
   "outputs": [],
   "source": [
    "import requests\n",
    "import Constants\n",
    "\n",
    "apiKey = Constants.API_KEY\n",
    "\n",
    "endpoint = \"https://api.assemblyai.com/v2/transcript\"\n",
    "\n",
    "json = {\"audio_url\": \"https://bit.ly/3rBnQ8i\",\n",
    "    \"sentiment_analysis\": True}\n",
    "\n",
    "headers = {\"authorization\": apiKey,\n",
    "    \"content-type\": \"application/json\"}\n",
    "\n",
    "response = requests.post(endpoint, json=json, headers=headers)\n",
    "print(response.json())\n",
    "\n"
   ]
  },
  {
   "cell_type": "markdown",
   "id": "03c84cf1",
   "metadata": {},
   "source": [
    "Get Finished Transcription"
   ]
  },
  {
   "cell_type": "code",
   "execution_count": null,
   "id": "50aa65e2",
   "metadata": {},
   "outputs": [],
   "source": [
    "\n",
    "\n",
    "\n",
    "\n",
    "\n",
    "\n",
    "\n",
    "\n",
    "\n"
   ]
  },
  {
   "cell_type": "code",
   "execution_count": null,
   "id": "ae86c82c",
   "metadata": {},
   "outputs": [],
   "source": [
    "endpoint = \"https://api.assemblyai.com/v2/transcript/o62ex635bt-9cbf-4aa0-a752-e58a29708005\"\n",
    "headers = {\n",
    "    \"authorization\": apiKey,\n",
    "}\n",
    "response = requests.get(endpoint, headers=headers)\n",
    "print(response.json())\n",
    "\n",
    "with open('sentiment.json', 'wb') as outf:\n",
    "    outf.write(response.content)"
   ]
  }
 ],
 "metadata": {
  "kernelspec": {
   "display_name": "Python 3",
   "language": "python",
   "name": "python3"
  },
  "language_info": {
   "codemirror_mode": {
    "name": "ipython",
    "version": 3
   },
   "file_extension": ".py",
   "mimetype": "text/x-python",
   "name": "python",
   "nbconvert_exporter": "python",
   "pygments_lexer": "ipython3",
   "version": "3.8.8"
  }
 },
 "nbformat": 4,
 "nbformat_minor": 5
}
