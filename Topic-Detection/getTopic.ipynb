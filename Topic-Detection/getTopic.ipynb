{
 "cells": [
  {
   "cell_type": "markdown",
   "id": "8d8ccc10",
   "metadata": {},
   "source": [
    "# Request to AssemblyAI API"
   ]
  },
  {
   "cell_type": "code",
   "execution_count": 1,
   "id": "0a72298a",
   "metadata": {},
   "outputs": [
    {
     "name": "stdout",
     "output_type": "stream",
     "text": [
      "{'id': 'ogdkiri9vc-c627-44ef-aec4-c5369ab63151', 'language_model': 'assemblyai_default', 'acoustic_model': 'assemblyai_default', 'language_code': 'en_us', 'status': 'queued', 'audio_url': 'https://download.ted.com/products/146255.mp4', 'text': None, 'words': None, 'utterances': None, 'confidence': None, 'audio_duration': None, 'punctuate': True, 'format_text': True, 'dual_channel': None, 'webhook_url': None, 'webhook_status_code': None, 'speed_boost': False, 'auto_highlights_result': None, 'auto_highlights': False, 'audio_start_from': None, 'audio_end_at': None, 'word_boost': [], 'boost_param': None, 'filter_profanity': False, 'redact_pii': False, 'redact_pii_audio': False, 'redact_pii_audio_quality': None, 'redact_pii_policies': None, 'redact_pii_sub': None, 'speaker_labels': False, 'content_safety': False, 'iab_categories': True, 'content_safety_labels': {}, 'iab_categories_result': {}, 'disfluencies': False, 'sentiment_analysis': False, 'sentiment_analysis_results': None, 'auto_chapters': False, 'chapters': None, 'entity_detection': False, 'entities': None}\n"
     ]
    }
   ],
   "source": [
    "import requests\n",
    "import Constants\n",
    "\n",
    "apiKey = Constants.API_KEY\n",
    "\n",
    "endpoint = \"https://api.assemblyai.com/v2/transcript\"\n",
    "json = {\n",
    "    \"audio_url\": \"https://download.ted.com/products/146255.mp4\",\n",
    "    \"iab_categories\": True\n",
    "}\n",
    "headers = {\n",
    "    \"authorization\": apiKey,\n",
    "    \"content-type\": \"application/json\"\n",
    "}\n",
    "response = requests.post(endpoint, json=json, headers=headers)\n",
    "print(response.json())"
   ]
  },
  {
   "cell_type": "markdown",
   "id": "a9ec5ee9",
   "metadata": {},
   "source": [
    "# Get Transcription results"
   ]
  },
  {
   "cell_type": "code",
   "execution_count": 3,
   "id": "4ee16c69",
   "metadata": {},
   "outputs": [],
   "source": [
    "endpoint = \"https://api.assemblyai.com/v2/transcript/ogdkiri9vc-c627-44ef-aec4-c5369ab63151\"\n",
    "headers = {\n",
    "    \"authorization\": apiKey\n",
    "}\n",
    "\n",
    "response = requests.get(endpoint, headers=headers)\n",
    "#print(response.json())\n",
    "\n",
    "with open('topics.json', 'wb') as outf:\n",
    "    outf.write(response.content)"
   ]
  },
  {
   "cell_type": "code",
   "execution_count": 6,
   "id": "9ef61f2f",
   "metadata": {},
   "outputs": [
    {
     "name": "stdout",
     "output_type": "stream",
     "text": [
      "{'status': 'success', 'results': [{'text': 'Breast cancer is one of the leading causes of cancer deaths. Globally, about one in eight US women will develop invasive breast cancer over the course of their lifetime. And globally, millions of women women suffer from breast cancer every year, but it is quite treatable if detected early. Right now, actually, mammography is the gold standard for breast cancer diagnosis, but mammography has a 10% chance of misdemeanor.', 'labels': [{'relevance': 0.9993190765380859, 'label': 'MedicalHealth>DiseasesAndConditions>Cancer'}, {'relevance': 0.03050941415131092, 'label': \"HealthyLiving>Women'sHealth\"}, {'relevance': 0.018415585160255432, 'label': 'MedicalHealth>DiseasesAndConditions>EndocrineAndMetabolicDiseases>Menopause'}, {'relevance': 0.010392933152616024, 'label': 'MedicalHealth>MedicalTests'}, {'relevance': 0.005865511018782854, 'label': 'MedicalHealth>DiseasesAndConditions>ReproductiveHealth>Pregnancy'}, {'relevance': 0.0023779652547091246, 'label': \"HealthyLiving>Men'sHealth\"}, {'relevance': 0.0020662182942032814, 'label': 'MedicalHealth>DiseasesAndConditions>HeartAndCardiovascularDiseases'}, {'relevance': 0.000588645227253437, 'label': 'MedicalHealth>DiseasesAndConditions>LungAndRespiratoryHealth'}, {'relevance': 0.0005774711607955396, 'label': 'MedicalHealth>Surgery'}, {'relevance': 0.000407087936764583, 'label': 'EventsAndAttractions>PersonalCelebrations&LifeEvents>Birth'}], 'timestamp': {'start': 5510, 'end': 35710}}, {'text': \"Thousands of lives could be lost each year because of this 10% today, I'm going to introduce a new technology, photoacoustic imaging. As you can see, it provides a much clearer image, leading to a more accurate diagnosis. It will be affordable, just like an ultrasound scan, it's painless and fast take only 15 seconds to scan the entire breast in 3D. An immediate results will be delivered to the patients.\", 'labels': [{'relevance': 0.08410817384719849, 'label': 'MedicalHealth>MedicalTests'}, {'relevance': 0.06868113577365875, 'label': 'MedicalHealth>DiseasesAndConditions>Cancer'}, {'relevance': 0.051285821944475174, 'label': 'MedicalHealth>Surgery'}, {'relevance': 0.04037519171833992, 'label': 'Technology&Computing>AugmentedReality'}, {'relevance': 0.023543406277894974, 'label': 'Technology&Computing>VirtualReality'}, {'relevance': 0.019947828724980354, 'label': 'MedicalHealth>CosmeticMedicalServices'}, {'relevance': 0.003663957118988037, 'label': 'MedicalHealth>DiseasesAndConditions>EndocrineAndMetabolicDiseases>Menopause'}, {'relevance': 0.0032304064370691776, 'label': 'Hobbies&Interests>ArtsAndCrafts>Photography'}, {'relevance': 0.0029723860789090395, 'label': \"HealthyLiving>Women'sHealth\"}, {'relevance': 0.0026450669392943382, 'label': 'MedicalHealth>DiseasesAndConditions>ReproductiveHealth>Pregnancy'}], 'timestamp': {'start': 36330, 'end': 72250}}, {'text': 'Beyond breast imaging, this technology will broadly transform how we see inside our bodies and maybe one day even allow us to diagnose cancer while a wearable watchlike device that monitors circulating tumor cells. So what is photo acoustic imaging? Based on a photo ofcourse effect. It is a conversion of light energy into sound energy. We shine a gentle laser pulse onto the tissue. The light is absorbed, raising its temperature a bit.', 'labels': [{'relevance': 0.3134775757789612, 'label': 'Hobbies&Interests>ArtsAndCrafts>Photography'}, {'relevance': 0.24159812927246094, 'label': 'Technology&Computing>AugmentedReality'}, {'relevance': 0.10502855479717255, 'label': 'Technology&Computing>ConsumerElectronics>WearableTechnology'}, {'relevance': 0.03148927167057991, 'label': 'Technology&Computing>VirtualReality'}, {'relevance': 0.012143668718636036, 'label': 'MedicalHealth>MedicalTests'}, {'relevance': 0.011093243025243282, 'label': 'Technology&Computing>ConsumerElectronics>CamerasAndCamcorders'}, {'relevance': 0.005945574026554823, 'label': 'MedicalHealth>Surgery'}, {'relevance': 0.0048398650251328945, 'label': 'MedicalHealth>DiseasesAndConditions>EyeAndVisionConditions'}, {'relevance': 0.0028714356012642384, 'label': 'MedicalHealth>DiseasesAndConditions>Cancer'}, {'relevance': 0.0023998452816158533, 'label': 'Technology&Computing>Computing>ComputerSoftwareAndApplications>3-DGraphics'}], 'timestamp': {'start': 73950, 'end': 108480}}, {'text': 'The rise in temperature leads to a tiny fraction of volume expansion, which in turn generates acoustic waves. Sensors process those sound signals, resulting in a high resolution image whose level of clarity and detail first surpasses what you get with traditional CT scans or ultrasounds. Now about Me I started out industrial optics, but changed the direction after my grandparents died of cancer and stroke. I realized that we needed better imaging technology to aid early diagnosis and provide better understanding of the diseases.', 'labels': [{'relevance': 0.48003950715065, 'label': 'Hobbies&Interests>ArtsAndCrafts>Photography'}, {'relevance': 0.13541485369205475, 'label': 'MedicalHealth>DiseasesAndConditions>EyeAndVisionConditions'}, {'relevance': 0.11881723254919052, 'label': 'Technology&Computing>ConsumerElectronics>CamerasAndCamcorders'}, {'relevance': 0.07617712765932083, 'label': 'Technology&Computing>AugmentedReality'}, {'relevance': 0.04251135140657425, 'label': 'MedicalHealth>MedicalTests'}, {'relevance': 0.040131717920303345, 'label': \"Style&Fashion>Women'sFashion>Women'sAccessories>Women'sGlasses\"}, {'relevance': 0.012114827521145344, 'label': 'Technology&Computing>Computing>ComputerSoftwareAndApplications>3-DGraphics'}, {'relevance': 0.011968561448156834, 'label': 'Technology&Computing>ConsumerElectronics>WearableTechnology'}, {'relevance': 0.009507179260253906, 'label': 'Technology&Computing>Computing>ComputerSoftwareAndApplications>PhotoEditingSoftware'}, {'relevance': 0.009348830208182335, 'label': 'Technology&Computing>VirtualReality'}], 'timestamp': {'start': 109050, 'end': 157550}}, {'text': 'So I decided to devote myself to biomedical optical imaging. I now research and develop next generation medical imaging with applications ranging from diagnosing cancer to mapping brain functions and navigating medical micro robots for drug delivery. Here are some examples showing what we can do. Take this mouse. The mouse has been virtually sliced into 600 pieces from head to toe. It took only 12 seconds to complete the whole body scan.', 'labels': [{'relevance': 0.9547426700592041, 'label': 'Technology&Computing>AugmentedReality'}, {'relevance': 0.877285897731781, 'label': 'Technology&Computing>VirtualReality'}, {'relevance': 0.0958511233329773, 'label': 'Technology&Computing>Computing>ComputerSoftwareAndApplications>3-DGraphics'}, {'relevance': 0.040627818554639816, 'label': 'Technology&Computing>Robotics'}, {'relevance': 0.021839698776602745, 'label': 'Technology&Computing>Computing>ComputerSoftwareAndApplications>ComputerAnimation'}, {'relevance': 0.020494483411312103, 'label': 'Technology&Computing>ConsumerElectronics>WearableTechnology'}, {'relevance': 0.012194948270916939, 'label': 'Hobbies&Interests>ArtsAndCrafts>Photography'}, {'relevance': 0.011715993285179138, 'label': 'MedicalHealth>Surgery'}, {'relevance': 0.010450420901179314, 'label': 'FineArt>DigitalArts'}, {'relevance': 0.005347502417862415, 'label': 'MedicalHealth>DiseasesAndConditions>EyeAndVisionConditions'}], 'timestamp': {'start': 157990, 'end': 191270}}, {'text': \"It looks a little like a mouse capacity, but don't worry, no mice were heard during the imaging. In this next video, we hold the animal, another mouse, in position to image its liver. The liver has a lot of beloved vessels inside. You can see them as a tree like network.\", 'labels': [{'relevance': 0.021028703078627586, 'label': 'Pets>Cats'}, {'relevance': 0.016823304817080498, 'label': 'Pets>Reptiles'}, {'relevance': 0.011234545148909092, 'label': 'EventsAndAttractions>PersonalCelebrations&LifeEvents>Birth'}, {'relevance': 0.010851298458874226, 'label': 'Pets>Birds'}, {'relevance': 0.0021804566495120525, 'label': 'Science>BiologicalSciences'}, {'relevance': 0.001774123404175043, 'label': 'MedicalHealth>DiseasesAndConditions>InfectiousDiseases'}, {'relevance': 0.0016503894003108144, 'label': 'MedicalHealth>DiseasesAndConditions>EyeAndVisionConditions'}, {'relevance': 0.001619453076273203, 'label': 'Hobbies&Interests>Beekeeping'}, {'relevance': 0.0011948528699576855, 'label': 'Pets>VeterinaryMedicine'}, {'relevance': 0.0010894680162891746, 'label': 'Pets>FishAndAquariums'}], 'timestamp': {'start': 192310, 'end': 212810}}, {'text': \"Because our image exposure time is so short only 50 microseconds, there is no blur at all, despite the movement of the animal during the imaging, the mouth is breathing normally and every frame in our video is clear. Within two slides, we can clearly see the internal structure and the blood vessel network. This enables us to differentiate a tumor from normal tissue. The light dose we use is well below the safety limit, and we don't need to inject any contrast agents. It is totally non invasive.\", 'labels': [{'relevance': 0.278694212436676, 'label': 'MedicalHealth>Surgery'}, {'relevance': 0.1725332885980606, 'label': 'MedicalHealth>DiseasesAndConditions>Ear,NoseAndThroatConditions'}, {'relevance': 0.1560639590024948, 'label': 'MedicalHealth>DiseasesAndConditions>Cancer'}, {'relevance': 0.093937948346138, 'label': 'MedicalHealth>CosmeticMedicalServices'}, {'relevance': 0.010351319797337055, 'label': 'MedicalHealth>MedicalTests'}, {'relevance': 0.009142066352069378, 'label': 'MedicalHealth>DiseasesAndConditions>EyeAndVisionConditions'}, {'relevance': 0.0035516652278602123, 'label': 'MedicalHealth>DiseasesAndConditions>LungAndRespiratoryHealth'}, {'relevance': 0.0014030180172994733, 'label': 'MedicalHealth>DiseasesAndConditions>SkinAndDermatology'}, {'relevance': 0.0013202795526012778, 'label': 'MedicalHealth>DiseasesAndConditions>BrainAndNervousSystemDisorders'}, {'relevance': 0.0012536895228549838, 'label': 'EventsAndAttractions>PersonalCelebrations&LifeEvents>Birth'}], 'timestamp': {'start': 213610, 'end': 250250}}, {'text': \"Now, for example, that is a little closer to home. This is the side by side comparison of human brain images. On the left you see an image from an MRI. On the right from photo aquous imaging photo aqueous imaging can reveal detailed vasculature but with even faster detection of the brain functions and without using the costly high magnetic field. What you are seeing here is the brain's activity a patient, not a human.\", 'labels': [{'relevance': 0.9853640198707581, 'label': 'MedicalHealth>DiseasesAndConditions>BrainAndNervousSystemDisorders'}, {'relevance': 0.01169245783239603, 'label': 'MedicalHealth>DiseasesAndConditions>EyeAndVisionConditions'}, {'relevance': 0.011206833645701408, 'label': 'MedicalHealth>MedicalTests'}, {'relevance': 0.009540666826069355, 'label': 'Technology&Computing>VirtualReality'}, {'relevance': 0.0026569596957415342, 'label': 'MedicalHealth>DiseasesAndConditions>SleepDisorders'}, {'relevance': 0.002308996394276619, 'label': 'MedicalHealth>DiseasesAndConditions>Injuries'}, {'relevance': 0.0016646587755531073, 'label': 'MedicalHealth>DiseasesAndConditions>Ear,NoseAndThroatConditions'}, {'relevance': 0.001432214630767703, 'label': 'Technology&Computing>AugmentedReality'}, {'relevance': 0.0011375335743650794, 'label': 'Hobbies&Interests>ParanormalPhenomena'}, {'relevance': 0.0008584043825976551, 'label': 'HealthyLiving>Wellness>PhysicalTherapy'}], 'timestamp': {'start': 250990, 'end': 282626}}, {'text': \"This time Texas finger, poxy, lipstick's, tongue and listening and thinking of words. Although I don't have a visual void I'd like to share one more example. In science fiction. Micro robots into our bodies to cure diseases in hard, rich areas. However, in reality, locating, guiding, and controlling them inside the body is a big challenge.\", 'labels': [{'relevance': 0.9987326264381409, 'label': 'Technology&Computing>Robotics'}, {'relevance': 0.7327473163604736, 'label': 'Technology&Computing>ArtificialIntelligence'}, {'relevance': 0.1103423461318016, 'label': 'Technology&Computing'}, {'relevance': 0.011190755292773247, 'label': 'Technology&Computing>ConsumerElectronics>WearableTechnology'}, {'relevance': 0.008569865487515926, 'label': 'BusinessAndFinance>Industries>TechnologyIndustry'}, {'relevance': 0.006677345372736454, 'label': 'BusinessAndFinance>Industries>BiotechAndBiomedicalIndustry'}, {'relevance': 0.004864297807216644, 'label': 'Automotive>AutoType>DriverlessCars'}, {'relevance': 0.003967077471315861, 'label': 'Technology&Computing>Computing>ComputerSoftwareAndApplications>ComputerAnimation'}, {'relevance': 0.0037722995039075613, 'label': \"Shopping>Children'sGamesAndToys\"}, {'relevance': 0.00357852503657341, 'label': 'FineArt>DigitalArts'}], 'timestamp': {'start': 282688, 'end': 311910}}, {'text': 'Just like the satellite based guiding cars to their destinations, a photo imaging system outside the body can serve similarly as a GPS for the micro robots. Biomedical optics has come a long way. The microscope used every day in modern medical diagnosis was invented in the 17th century which revolutionized 19th century medicine by letting us see into a cell. The optical coherence tomography developed in the 1990s increased optical penetration to 1 mm bringing huge benefits to clinical care for skin and eyes.', 'labels': [{'relevance': 0.670432448387146, 'label': 'Technology&Computing>AugmentedReality'}, {'relevance': 0.6188305020332336, 'label': 'Technology&Computing>Robotics'}, {'relevance': 0.3270864486694336, 'label': 'MedicalHealth>DiseasesAndConditions>EyeAndVisionConditions'}, {'relevance': 0.27493301033973694, 'label': 'Technology&Computing>VirtualReality'}, {'relevance': 0.1797986626625061, 'label': 'Technology&Computing>ConsumerElectronics>WearableTechnology'}, {'relevance': 0.08617976307868958, 'label': \"Style&Fashion>Women'sFashion>Women'sAccessories>Women'sGlasses\"}, {'relevance': 0.06929534673690796, 'label': 'MedicalHealth>Surgery'}, {'relevance': 0.03320843353867531, 'label': 'Hobbies&Interests>ArtsAndCrafts>Photography'}, {'relevance': 0.013841780833899975, 'label': 'Automotive>AutoTechnology>AutoNavigationSystems'}, {'relevance': 0.013076463714241982, 'label': 'Technology&Computing>Computing>ComputerSoftwareAndApplications>3-DGraphics'}], 'timestamp': {'start': 312590, 'end': 353780}}, {'text': 'Now, photo acoustic imaging, first adopted for medical use in the 2000s allows us to see even more allowing penetration by another order of magnitude to several centimeters allowing organ level invival human imaging. Photography imaging is a highly active and fastgrowing research field. Using microwave instead of light, this imaging method holds promises for whole body penetration in humans. In the future, we are hoping that the further advancement of this technology will aid early diagnosis of cancer and brain diseases ultimately benefiting global health.', 'labels': [{'relevance': 0.7342656850814819, 'label': 'Hobbies&Interests>ArtsAndCrafts>Photography'}, {'relevance': 0.18858249485492706, 'label': 'Technology&Computing>AugmentedReality'}, {'relevance': 0.06868667155504227, 'label': 'Technology&Computing>VirtualReality'}, {'relevance': 0.0480584055185318, 'label': 'Technology&Computing>ConsumerElectronics>CamerasAndCamcorders'}, {'relevance': 0.03731687366962433, 'label': 'MedicalHealth>MedicalTests'}, {'relevance': 0.026787612587213516, 'label': 'MedicalHealth>Surgery'}, {'relevance': 0.019472206011414528, 'label': 'MedicalHealth>DiseasesAndConditions>EyeAndVisionConditions'}, {'relevance': 0.006642465479671955, 'label': 'Technology&Computing>ConsumerElectronics>WearableTechnology'}, {'relevance': 0.003504788503050804, 'label': 'FineArt>FineArtPhotography'}, {'relevance': 0.0033988840878009796, 'label': 'MedicalHealth>DiseasesAndConditions>LungAndRespiratoryHealth'}], 'timestamp': {'start': 355430, 'end': 399260}}, {'text': 'I hope you can share my excitement over this fast growing field and hope you will join us in advancing the technology. Thank you.', 'labels': [{'relevance': 0.8735448718070984, 'label': 'Technology&Computing'}, {'relevance': 0.7351535558700562, 'label': 'BusinessAndFinance>Industries>TechnologyIndustry'}, {'relevance': 0.06564003974199295, 'label': 'Technology&Computing>Computing>Internet>ITAndInternetSupport'}, {'relevance': 0.04099886864423752, 'label': 'Technology&Computing>ConsumerElectronics'}, {'relevance': 0.021771349012851715, 'label': 'Technology&Computing>ConsumerElectronics>WearableTechnology'}, {'relevance': 0.01986381970345974, 'label': 'BusinessAndFinance>Industries>BiotechAndBiomedicalIndustry'}, {'relevance': 0.013054076582193375, 'label': 'BusinessAndFinance>Business>GreenSolutions'}, {'relevance': 0.011594416573643684, 'label': 'BusinessAndFinance>Industries>ManufacturingIndustry'}, {'relevance': 0.009263784624636173, 'label': 'BusinessAndFinance>Industries>PharmaceuticalIndustry'}, {'relevance': 0.006668906193226576, 'label': 'BusinessAndFinance>Industries>PowerAndEnergyIndustry'}], 'timestamp': {'start': 400130, 'end': 409380}}], 'summary': {'Technology&Computing>AugmentedReality': 1.0, 'Technology&Computing>Robotics': 0.7643078565597534, 'Hobbies&Interests>ArtsAndCrafts>Photography': 0.7253267765045166, 'Technology&Computing>VirtualReality': 0.5963623523712158, 'MedicalHealth>DiseasesAndConditions>Cancer': 0.5655810832977295, 'Technology&Computing': 0.4591425955295563, 'MedicalHealth>DiseasesAndConditions>BrainAndNervousSystemDisorders': 0.45452025532722473, 'BusinessAndFinance>Industries>TechnologyIndustry': 0.34661853313446045, 'Technology&Computing>ArtificialIntelligence': 0.3426898121833801, 'MedicalHealth>DiseasesAndConditions>EyeAndVisionConditions': 0.23704330623149872, 'MedicalHealth>Surgery': 0.2076747566461563, 'Technology&Computing>ConsumerElectronics>WearableTechnology': 0.16482013463974, 'MedicalHealth>MedicalTests': 0.0983886793255806, 'Technology&Computing>ConsumerElectronics>CamerasAndCamcorders': 0.08687982708215714, 'MedicalHealth>DiseasesAndConditions>Ear,NoseAndThroatConditions': 0.08283011615276337, \"Style&Fashion>Women'sFashion>Women'sAccessories>Women'sGlasses\": 0.06040135771036148, 'Technology&Computing>Computing>ComputerSoftwareAndApplications>3-DGraphics': 0.05928131192922592, 'MedicalHealth>CosmeticMedicalServices': 0.05822675675153732, 'Technology&Computing>Computing>Internet>ITAndInternetSupport': 0.031125780194997787, 'Technology&Computing>ConsumerElectronics': 0.019692284986376762}}\n"
     ]
    }
   ],
   "source": [
    "import json\n",
    "print(response.json()['iab_categories_result'])\n",
    "\n",
    "\n",
    "with open('onlyTopics.json', 'w') as file:\n",
    "     file.write(json.dumps(response.json()['iab_categories_result']))"
   ]
  },
  {
   "cell_type": "code",
   "execution_count": null,
   "id": "5e53fa58",
   "metadata": {},
   "outputs": [],
   "source": []
  }
 ],
 "metadata": {
  "kernelspec": {
   "display_name": "Python 3",
   "language": "python",
   "name": "python3"
  },
  "language_info": {
   "codemirror_mode": {
    "name": "ipython",
    "version": 3
   },
   "file_extension": ".py",
   "mimetype": "text/x-python",
   "name": "python",
   "nbconvert_exporter": "python",
   "pygments_lexer": "ipython3",
   "version": "3.8.8"
  }
 },
 "nbformat": 4,
 "nbformat_minor": 5
}
