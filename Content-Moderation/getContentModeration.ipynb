{
 "cells": [
  {
   "cell_type": "markdown",
   "id": "8ea0af1b",
   "metadata": {},
   "source": [
    "# Content Moderation"
   ]
  },
  {
   "cell_type": "code",
   "execution_count": null,
   "id": "6a96f7a7",
   "metadata": {
    "scrolled": true
   },
   "outputs": [],
   "source": [
    "import requests\n",
    "import Constants\n",
    "\n",
    "apiKey = Constants.API_KEY\n",
    "\n",
    "endpoint = \"https://api.assemblyai.com/v2/transcript\"\n",
    "\n",
    "json = {\n",
    "    \"audio_url\": \"https://download.ted.com/products/96278.mp4\",\n",
    "    \"content_safety\": True,\n",
    "    \"content_safety_confidence\": 80\n",
    "}\n",
    "\n",
    "headers = {\n",
    "    \"authorization\": apiKey,\n",
    "    \"content-type\": \"application/json\"\n",
    "}\n",
    "\n",
    "response = requests.post(endpoint, json=json, headers=headers)\n",
    "print(response.json())"
   ]
  },
  {
   "cell_type": "markdown",
   "id": "a6388552",
   "metadata": {},
   "source": [
    "## Getting the Transcription Result"
   ]
  },
  {
   "cell_type": "code",
   "execution_count": null,
   "id": "a3bd59c9",
   "metadata": {},
   "outputs": [],
   "source": [
    "endpoint = \"https://api.assemblyai.com/v2/transcript/okv8nqkr5x-2dc7-40cc-b1a9-65462cc03bc3\"\n",
    "headers = {\n",
    "    \"authorization\": apiKey\n",
    "}\n",
    "\n",
    "response = requests.get(endpoint, headers=headers)\n",
    "print(response.json())\n",
    "\n",
    "with open('contentModeration.json', 'wb') as outf:\n",
    "    outf.write(response.content)"
   ]
  },
  {
   "cell_type": "code",
   "execution_count": null,
   "id": "139f97d9",
   "metadata": {},
   "outputs": [],
   "source": []
  }
 ],
 "metadata": {
  "kernelspec": {
   "display_name": "Python 3",
   "language": "python",
   "name": "python3"
  },
  "language_info": {
   "codemirror_mode": {
    "name": "ipython",
    "version": 3
   },
   "file_extension": ".py",
   "mimetype": "text/x-python",
   "name": "python",
   "nbconvert_exporter": "python",
   "pygments_lexer": "ipython3",
   "version": "3.8.8"
  }
 },
 "nbformat": 4,
 "nbformat_minor": 5
}
